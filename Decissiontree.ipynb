{
  "nbformat": 4,
  "nbformat_minor": 0,
  "metadata": {
    "colab": {
      "name": "Decissiontree.ipynb",
      "provenance": [],
      "authorship_tag": "ABX9TyMEj7L/5QFHWXPvZyTmV05z",
      "include_colab_link": true
    },
    "kernelspec": {
      "name": "python3",
      "display_name": "Python 3"
    },
    "language_info": {
      "name": "python"
    }
  },
  "cells": [
    {
      "cell_type": "markdown",
      "metadata": {
        "id": "view-in-github",
        "colab_type": "text"
      },
      "source": [
        "<a href=\"https://colab.research.google.com/github/Anggidanu/Data-Mining/blob/main/Decissiontree.ipynb\" target=\"_parent\"><img src=\"https://colab.research.google.com/assets/colab-badge.svg\" alt=\"Open In Colab\"/></a>"
      ]
    },
    {
      "cell_type": "code",
      "metadata": {
        "id": "xN4aMzE71wDB"
      },
      "source": [
        "import numpy as np\n",
        "import pandas as pd\n",
        "from sklearn import tree"
      ],
      "execution_count": 33,
      "outputs": []
    },
    {
      "cell_type": "code",
      "metadata": {
        "id": "UQ2LoZh44lTM"
      },
      "source": [
        "irisDataset = pd.read_csv('Iris.csv',delimiter=',',header=0)"
      ],
      "execution_count": 34,
      "outputs": []
    },
    {
      "cell_type": "code",
      "metadata": {
        "id": "fag_tKAH5P3b"
      },
      "source": [
        "irisDataset [\"Species\"]= pd.factorize(irisDataset.Species)[0]"
      ],
      "execution_count": 35,
      "outputs": []
    },
    {
      "cell_type": "code",
      "metadata": {
        "id": "EF7vKiOy792o"
      },
      "source": [
        "irisDataset = irisDataset.drop(labels=\"Id\", axis=1)"
      ],
      "execution_count": 36,
      "outputs": []
    },
    {
      "cell_type": "code",
      "metadata": {
        "id": "opxGDSL08J4T"
      },
      "source": [
        "irisDataset = irisDataset.to_numpy()"
      ],
      "execution_count": 37,
      "outputs": []
    },
    {
      "cell_type": "code",
      "metadata": {
        "id": "0Gdv7ZDK8PIL"
      },
      "source": [
        "dataTraining = np.concatenate((irisDataset[0:50,:],\n",
        "                               irisDataset[60:140,:]), axis=0)\n",
        "dataTesting = np.concatenate((irisDataset[50:60,:],\n",
        "                               irisDataset[140:150,:]), axis=0)"
      ],
      "execution_count": 38,
      "outputs": []
    },
    {
      "cell_type": "code",
      "metadata": {
        "id": "0a0ztKt28TTB"
      },
      "source": [
        "inputTraining = dataTraining[:,0:4]\n",
        "inputTesting = dataTesting[:,0:4]\n",
        "labelTraining = dataTraining[:,4]\n",
        "labelTesting = dataTesting[:,4]\n"
      ],
      "execution_count": 39,
      "outputs": []
    },
    {
      "cell_type": "code",
      "metadata": {
        "id": "Odc8-WXo8a_R"
      },
      "source": [
        "model = tree.DecisionTreeClassifier()"
      ],
      "execution_count": 40,
      "outputs": []
    },
    {
      "cell_type": "code",
      "metadata": {
        "id": "V9V4IL9V8d3_"
      },
      "source": [
        "model = model.fit(inputTraining , labelTraining)"
      ],
      "execution_count": 41,
      "outputs": []
    },
    {
      "cell_type": "code",
      "metadata": {
        "colab": {
          "base_uri": "https://localhost:8080/"
        },
        "id": "UuBZp16nCbnR",
        "outputId": "b0164573-5d1d-4cb2-ceb9-5c3239292cfc"
      },
      "source": [
        "hasilPrediksi = model.predict(inputTesting)\n",
        "print(\"Label Sebenarnya\", labelTesting)\n",
        "print(\"Hasil Prediksi\", hasilPrediksi)"
      ],
      "execution_count": 42,
      "outputs": [
        {
          "output_type": "stream",
          "text": [
            "Label Sebenarnya [1. 1. 1. 1. 1. 1. 1. 1. 1. 1.]\n",
            "Hasil Prediksi [1. 1. 1. 1. 1. 1. 0. 1. 1. 1.]\n"
          ],
          "name": "stdout"
        }
      ]
    },
    {
      "cell_type": "code",
      "metadata": {
        "colab": {
          "base_uri": "https://localhost:8080/"
        },
        "id": "C64GBEORCjWJ",
        "outputId": "67865a76-bad1-4fd9-8815-cec9fa3ca0a2"
      },
      "source": [
        "prediksiBenar = (hasilPrediksi == labelTesting).sum()\n",
        "prediksiSalah = (hasilPrediksi != labelTesting).sum()\n",
        "print(\"Prediksi Benar : \",prediksiBenar,\"data\")\n",
        "print(\"Prediksi Salah : \",prediksiSalah,\"data\")\n",
        "print(\"Akurasi : \",prediksiBenar/(prediksiBenar+prediksiSalah)*100,\"%\")"
      ],
      "execution_count": 43,
      "outputs": [
        {
          "output_type": "stream",
          "text": [
            "Prediksi Benar :  9 data\n",
            "Prediksi Salah :  1 data\n",
            "Akurasi :  90.0 %\n"
          ],
          "name": "stdout"
        }
      ]
    }
  ]
}